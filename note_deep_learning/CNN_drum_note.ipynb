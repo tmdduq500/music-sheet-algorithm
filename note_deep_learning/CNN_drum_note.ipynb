{
 "cells": [
  {
   "cell_type": "code",
   "execution_count": 1,
   "metadata": {
    "id": "_ut_1zV4FVWE"
   },
   "outputs": [],
   "source": [
    "import tensorflow as tf\n",
    "from tensorflow.keras.preprocessing.image import ImageDataGenerator, load_img\n",
    "from keras.preprocessing.image import ImageDataGenerator\n",
    "from PIL import Image, ImageOps\n",
    "import numpy as np\n",
    "import glob"
   ]
  },
  {
   "cell_type": "code",
   "execution_count": 2,
   "metadata": {
    "id": "5a4NMIJ963YX"
   },
   "outputs": [],
   "source": [
    "# 이미지 리사이징 및 검정색 배경으로 채우는 함수\n",
    "def resize_image_fill_black(image_path, target_size):\n",
    "    image = Image.open(image_path)\n",
    "    new_image = ImageOps.fit(image, target_size, method=0, bleed=0.0, centering=(0.5, 0.5), fillcolor=(0, 0, 0))\n",
    "    resized_image = np.array(new_image)\n",
    "    return resized_image"
   ]
  },
  {
   "cell_type": "code",
   "execution_count": 3,
   "metadata": {
    "id": "9mgayT4q7EVu"
   },
   "outputs": [],
   "source": [
    "# 데이터셋 경로 설정\n",
    "train_directory = 'D:/note_deep_learning/train_note'\n",
    "test_directory = 'D:/note_deep_learning/test_note'\n",
    "\n",
    "# 데이터 증강 및 리사이징 설정\n",
    "train_datagen = ImageDataGenerator(\n",
    "    rescale=1./255,\n",
    "    shear_range=0.2,\n",
    "    zoom_range=0.2,\n",
    "    horizontal_flip=True\n",
    ")\n",
    "test_datagen = ImageDataGenerator(rescale=1./255)\n",
    "\n",
    "# 훈련 및 테스트 데이터셋 로드\n",
    "target_size = (64, 64)  # 원하는 크기로 변경\n",
    "batch_size = 32"
   ]
  },
  {
   "cell_type": "code",
   "execution_count": 4,
   "metadata": {
    "colab": {
     "base_uri": "https://localhost:8080/"
    },
    "id": "e0FPOKObFZB4",
    "outputId": "a1f2e9fa-2ab4-4efa-d2e5-971cd0f0782a"
   },
   "outputs": [
    {
     "name": "stdout",
     "output_type": "stream",
     "text": [
      "Found 9000 images belonging to 9 classes.\n"
     ]
    }
   ],
   "source": [
    "training_set = train_datagen.flow_from_directory(\n",
    "    train_directory,\n",
    "    target_size=target_size,\n",
    "    batch_size=batch_size,\n",
    "    class_mode='categorical'\n",
    ")"
   ]
  },
  {
   "cell_type": "code",
   "execution_count": 5,
   "metadata": {
    "colab": {
     "base_uri": "https://localhost:8080/"
    },
    "id": "Roo7qyh4FdhR",
    "outputId": "b9175cc4-8f0c-41f7-a1c9-b991f92e30c2"
   },
   "outputs": [
    {
     "name": "stdout",
     "output_type": "stream",
     "text": [
      "Found 965 images belonging to 9 classes.\n"
     ]
    }
   ],
   "source": [
    "test_set = test_datagen.flow_from_directory(\n",
    "    test_directory,\n",
    "    target_size=target_size,\n",
    "    batch_size=batch_size,\n",
    "    class_mode='categorical'\n",
    ")"
   ]
  },
  {
   "cell_type": "code",
   "execution_count": 6,
   "metadata": {
    "colab": {
     "base_uri": "https://localhost:8080/"
    },
    "id": "0sHTePtuCCI8",
    "outputId": "38a0d2e5-a37f-401e-9e9c-03475e05a931"
   },
   "outputs": [
    {
     "name": "stdout",
     "output_type": "stream",
     "text": [
      "Training Set 클래스 이름:  {'1': 0, '2': 1, '3': 2, '4': 3, '5': 4, '6': 5, '7': 6, '8': 7, '9': 8}\n",
      "Test Set 클래스 이름:  {'1': 0, '2': 1, '3': 2, '4': 3, '5': 4, '6': 5, '7': 6, '8': 7, '9': 8}\n"
     ]
    }
   ],
   "source": [
    "print(\"Training Set 클래스 이름: \", training_set.class_indices)\n",
    "print(\"Test Set 클래스 이름: \", test_set.class_indices)"
   ]
  },
  {
   "cell_type": "code",
   "execution_count": 7,
   "metadata": {
    "id": "guJrBTOIFe5F"
   },
   "outputs": [],
   "source": [
    "cnn = tf.keras.models.Sequential()\n",
    "cnn.add(tf.keras.layers.Conv2D(filters=32, kernel_size=3, activation='relu', input_shape=[64, 64, 3]))\n",
    "cnn.add(tf.keras.layers.MaxPool2D(pool_size=2, strides=2))\n",
    "cnn.add(tf.keras.layers.Conv2D(filters=32, kernel_size=3, activation='relu'))\n",
    "cnn.add(tf.keras.layers.MaxPool2D(pool_size=2, strides=2))\n",
    "cnn.add(tf.keras.layers.Flatten())\n",
    "cnn.add(tf.keras.layers.Dense(units=128, activation='relu'))\n",
    "cnn.add(tf.keras.layers.Dense(9, activation='softmax'))\n",
    "cnn.compile(optimizer = 'adam', loss = 'categorical_crossentropy', metrics = ['accuracy'])"
   ]
  },
  {
   "cell_type": "code",
   "execution_count": null,
   "metadata": {
    "colab": {
     "base_uri": "https://localhost:8080/",
     "height": 184
    },
    "id": "7SUK2-jVFv45",
    "outputId": "936e7107-47ea-47b4-8867-b77ec99a7f94",
    "scrolled": false
   },
   "outputs": [
    {
     "name": "stdout",
     "output_type": "stream",
     "text": [
      "Epoch 1/25\n",
      "282/282 [==============================] - 31s 108ms/step - loss: 0.9823 - accuracy: 0.6693 - val_loss: 0.3710 - val_accuracy: 0.8746\n",
      "Epoch 2/25\n",
      "282/282 [==============================] - 33s 117ms/step - loss: 0.4267 - accuracy: 0.8518 - val_loss: 0.2306 - val_accuracy: 0.9347\n",
      "Epoch 3/25\n",
      "282/282 [==============================] - 36s 128ms/step - loss: 0.2840 - accuracy: 0.9062 - val_loss: 0.2006 - val_accuracy: 0.9409\n",
      "Epoch 4/25\n",
      "282/282 [==============================] - 33s 116ms/step - loss: 0.2074 - accuracy: 0.9306 - val_loss: 0.1788 - val_accuracy: 0.9440\n",
      "Epoch 5/25\n",
      "282/282 [==============================] - 33s 117ms/step - loss: 0.1677 - accuracy: 0.9433 - val_loss: 0.1876 - val_accuracy: 0.9409\n",
      "Epoch 6/25\n",
      "282/282 [==============================] - 34s 121ms/step - loss: 0.1353 - accuracy: 0.9572 - val_loss: 0.1304 - val_accuracy: 0.9648\n",
      "Epoch 7/25\n",
      "282/282 [==============================] - 31s 108ms/step - loss: 0.1182 - accuracy: 0.9601 - val_loss: 0.1217 - val_accuracy: 0.9658\n",
      "Epoch 8/25\n",
      "282/282 [==============================] - 28s 100ms/step - loss: 0.1036 - accuracy: 0.9662 - val_loss: 0.0988 - val_accuracy: 0.9699\n",
      "Epoch 9/25\n",
      "282/282 [==============================] - 31s 109ms/step - loss: 0.0928 - accuracy: 0.9679 - val_loss: 0.1757 - val_accuracy: 0.9420\n",
      "Epoch 10/25\n",
      "282/282 [==============================] - 30s 107ms/step - loss: 0.0931 - accuracy: 0.9689 - val_loss: 0.1447 - val_accuracy: 0.9585\n",
      "Epoch 11/25\n",
      "282/282 [==============================] - 29s 104ms/step - loss: 0.0758 - accuracy: 0.9738 - val_loss: 0.1474 - val_accuracy: 0.9523\n",
      "Epoch 12/25\n"
     ]
    }
   ],
   "source": [
    "cnn.fit(x = training_set, validation_data = test_set, epochs = 25)#epochs=훈련횟수, 결과 값 안나오면 숫자 늘려가기\n"
   ]
  },
  {
   "cell_type": "code",
   "execution_count": null,
   "metadata": {
    "colab": {
     "base_uri": "https://localhost:8080/"
    },
    "id": "mdXOZvUW6Lbs",
    "outputId": "5bba448b-9107-4611-cd05-2798ed810a6b"
   },
   "outputs": [],
   "source": [
    "from tensorflow.keras.preprocessing import image\n",
    "\n",
    "# 이미지 파일이 있는 디렉토리 경로\n",
    "image_directory = 'D:/note_deep_learning/test/'\n",
    "\n",
    "# 이미지 파일 목록 가져오기\n",
    "image_files = glob.glob(image_directory + '*.jpg')  # 필요한 이미지 확장자에 따라 수정\n",
    "\n",
    "# 클래스 인덱스와 클래스 이름 매핑\n",
    "class_indices = training_set.class_indices\n",
    "class_names = {v: k for k, v in class_indices.items()}\n",
    "\n",
    "# 각 이미지에 대한 예측 수행\n",
    "for image_file in image_files:\n",
    "    # 이미지 로드 및 전처리\n",
    "    test_image = image.load_img(image_file, target_size=(64, 64))\n",
    "    test_image = image.img_to_array(test_image)\n",
    "    test_image = np.expand_dims(test_image, axis=0)\n",
    "\n",
    "    # 예측 수행\n",
    "    result = cnn.predict(test_image)\n",
    "\n",
    "    # 예측 결과 확인\n",
    "    predicted_class_index = np.argmax(result)\n",
    "    predicted_class_name = class_names[predicted_class_index]\n",
    "\n",
    "    print(f\"Image: {image_file}, Predicted Class: {predicted_class_name}\")"
   ]
  },
  {
   "cell_type": "code",
   "execution_count": null,
   "metadata": {},
   "outputs": [],
   "source": []
  }
 ],
 "metadata": {
  "colab": {
   "provenance": []
  },
  "kernelspec": {
   "display_name": "Python 3 (ipykernel)",
   "language": "python",
   "name": "python3"
  },
  "language_info": {
   "codemirror_mode": {
    "name": "ipython",
    "version": 3
   },
   "file_extension": ".py",
   "mimetype": "text/x-python",
   "name": "python",
   "nbconvert_exporter": "python",
   "pygments_lexer": "ipython3",
   "version": "3.11.3"
  }
 },
 "nbformat": 4,
 "nbformat_minor": 1
}
