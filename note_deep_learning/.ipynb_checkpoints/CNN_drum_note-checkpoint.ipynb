{
 "cells": [
  {
   "cell_type": "code",
   "execution_count": 1,
   "metadata": {
    "id": "_ut_1zV4FVWE"
   },
   "outputs": [],
   "source": [
    "import tensorflow as tf\n",
    "from tensorflow.keras.preprocessing.image import ImageDataGenerator, load_img\n",
    "from keras.preprocessing.image import ImageDataGenerator\n",
    "from PIL import Image, ImageOps\n",
    "import numpy as np\n",
    "import glob"
   ]
  },
  {
   "cell_type": "code",
   "execution_count": 2,
   "metadata": {
    "id": "5a4NMIJ963YX"
   },
   "outputs": [],
   "source": [
    "# 이미지 리사이징 및 검정색 배경으로 채우는 함수\n",
    "def resize_image_fill_black(image_path, target_size):\n",
    "    image = Image.open(image_path)\n",
    "    new_image = ImageOps.fit(image, target_size, method=0, bleed=0.0, centering=(0.5, 0.5), fillcolor=(0, 0, 0))\n",
    "    resized_image = np.array(new_image)\n",
    "    return resized_image"
   ]
  },
  {
   "cell_type": "code",
   "execution_count": 3,
   "metadata": {
    "id": "9mgayT4q7EVu"
   },
   "outputs": [],
   "source": [
    "# 데이터셋 경로 설정\n",
    "train_directory = 'D:/note_deep_learning/train_note'\n",
    "test_directory = 'D:/note_deep_learning/test_note'\n",
    "\n",
    "# 데이터 증강 및 리사이징 설정\n",
    "train_datagen = ImageDataGenerator(\n",
    "    rescale=1./255,\n",
    "    shear_range=0.2,\n",
    "    zoom_range=0.2,\n",
    "    horizontal_flip=True\n",
    ")\n",
    "test_datagen = ImageDataGenerator(rescale=1./255)\n",
    "\n",
    "# 훈련 및 테스트 데이터셋 로드\n",
    "target_size = (64, 64)  # 원하는 크기로 변경\n",
    "batch_size = 32"
   ]
  },
  {
   "cell_type": "code",
   "execution_count": 4,
   "metadata": {
    "colab": {
     "base_uri": "https://localhost:8080/"
    },
    "id": "e0FPOKObFZB4",
    "outputId": "a1f2e9fa-2ab4-4efa-d2e5-971cd0f0782a"
   },
   "outputs": [
    {
     "name": "stdout",
     "output_type": "stream",
     "text": [
      "Found 26458 images belonging to 9 classes.\n"
     ]
    }
   ],
   "source": [
    "training_set = train_datagen.flow_from_directory(\n",
    "    train_directory,\n",
    "    target_size=target_size,\n",
    "    batch_size=batch_size,\n",
    "    class_mode='categorical'\n",
    ")"
   ]
  },
  {
   "cell_type": "code",
   "execution_count": 5,
   "metadata": {
    "colab": {
     "base_uri": "https://localhost:8080/"
    },
    "id": "Roo7qyh4FdhR",
    "outputId": "b9175cc4-8f0c-41f7-a1c9-b991f92e30c2"
   },
   "outputs": [
    {
     "name": "stdout",
     "output_type": "stream",
     "text": [
      "Found 965 images belonging to 9 classes.\n"
     ]
    }
   ],
   "source": [
    "test_set = test_datagen.flow_from_directory(\n",
    "    test_directory,\n",
    "    target_size=target_size,\n",
    "    batch_size=batch_size,\n",
    "    class_mode='categorical'\n",
    ")"
   ]
  },
  {
   "cell_type": "code",
   "execution_count": 6,
   "metadata": {
    "colab": {
     "base_uri": "https://localhost:8080/"
    },
    "id": "0sHTePtuCCI8",
    "outputId": "38a0d2e5-a37f-401e-9e9c-03475e05a931"
   },
   "outputs": [
    {
     "name": "stdout",
     "output_type": "stream",
     "text": [
      "Training Set 클래스 이름:  {'1': 0, '2': 1, '3': 2, '4': 3, '5': 4, '6': 5, '7': 6, '8': 7, '9': 8}\n",
      "Test Set 클래스 이름:  {'1': 0, '2': 1, '3': 2, '4': 3, '5': 4, '6': 5, '7': 6, '8': 7, '9': 8}\n"
     ]
    }
   ],
   "source": [
    "print(\"Training Set 클래스 이름: \", training_set.class_indices)\n",
    "print(\"Test Set 클래스 이름: \", test_set.class_indices)"
   ]
  },
  {
   "cell_type": "code",
   "execution_count": 7,
   "metadata": {
    "id": "guJrBTOIFe5F"
   },
   "outputs": [],
   "source": [
    "cnn = tf.keras.models.Sequential()\n",
    "cnn.add(tf.keras.layers.Conv2D(filters=32, kernel_size=3, activation='relu', input_shape=[64, 64, 3]))\n",
    "cnn.add(tf.keras.layers.MaxPool2D(pool_size=2, strides=2))\n",
    "cnn.add(tf.keras.layers.Conv2D(filters=32, kernel_size=3, activation='relu'))\n",
    "cnn.add(tf.keras.layers.MaxPool2D(pool_size=2, strides=2))\n",
    "cnn.add(tf.keras.layers.Flatten())\n",
    "cnn.add(tf.keras.layers.Dense(units=128, activation='relu'))\n",
    "cnn.add(tf.keras.layers.Dense(9, activation='softmax'))\n",
    "cnn.compile(optimizer = 'adam', loss = 'categorical_crossentropy', metrics = ['accuracy'])"
   ]
  },
  {
   "cell_type": "code",
   "execution_count": 8,
   "metadata": {
    "colab": {
     "base_uri": "https://localhost:8080/",
     "height": 184
    },
    "id": "7SUK2-jVFv45",
    "outputId": "936e7107-47ea-47b4-8867-b77ec99a7f94",
    "scrolled": false
   },
   "outputs": [
    {
     "name": "stdout",
     "output_type": "stream",
     "text": [
      "Epoch 1/30\n",
      "827/827 [==============================] - 80s 95ms/step - loss: 0.8134 - accuracy: 0.7147 - val_loss: 0.3788 - val_accuracy: 0.8829\n",
      "Epoch 2/30\n",
      "827/827 [==============================] - 80s 96ms/step - loss: 0.2910 - accuracy: 0.9029 - val_loss: 0.3614 - val_accuracy: 0.8881\n",
      "Epoch 3/30\n",
      "827/827 [==============================] - 80s 97ms/step - loss: 0.1910 - accuracy: 0.9364 - val_loss: 0.2650 - val_accuracy: 0.9306\n",
      "Epoch 4/30\n",
      "827/827 [==============================] - 81s 98ms/step - loss: 0.1516 - accuracy: 0.9497 - val_loss: 0.2406 - val_accuracy: 0.9295\n",
      "Epoch 5/30\n",
      "827/827 [==============================] - 80s 97ms/step - loss: 0.1249 - accuracy: 0.9585 - val_loss: 0.2442 - val_accuracy: 0.9409\n",
      "Epoch 6/30\n",
      "827/827 [==============================] - 80s 96ms/step - loss: 0.0955 - accuracy: 0.9682 - val_loss: 0.1599 - val_accuracy: 0.9679\n",
      "Epoch 7/30\n",
      "827/827 [==============================] - 81s 97ms/step - loss: 0.0947 - accuracy: 0.9684 - val_loss: 0.1843 - val_accuracy: 0.9627\n",
      "Epoch 8/30\n",
      "827/827 [==============================] - 81s 98ms/step - loss: 0.0856 - accuracy: 0.9715 - val_loss: 0.1650 - val_accuracy: 0.9658\n",
      "Epoch 9/30\n",
      "827/827 [==============================] - 81s 97ms/step - loss: 0.0747 - accuracy: 0.9750 - val_loss: 0.1960 - val_accuracy: 0.9430\n",
      "Epoch 10/30\n",
      "827/827 [==============================] - 81s 98ms/step - loss: 0.0737 - accuracy: 0.9755 - val_loss: 0.1653 - val_accuracy: 0.9617\n",
      "Epoch 11/30\n",
      "827/827 [==============================] - 81s 97ms/step - loss: 0.0595 - accuracy: 0.9791 - val_loss: 0.2386 - val_accuracy: 0.9565\n",
      "Epoch 12/30\n",
      "827/827 [==============================] - 82s 99ms/step - loss: 0.0666 - accuracy: 0.9774 - val_loss: 0.2166 - val_accuracy: 0.9565\n",
      "Epoch 13/30\n",
      "827/827 [==============================] - 86s 104ms/step - loss: 0.0628 - accuracy: 0.9788 - val_loss: 0.1603 - val_accuracy: 0.9606\n",
      "Epoch 14/30\n",
      "827/827 [==============================] - 84s 101ms/step - loss: 0.0517 - accuracy: 0.9832 - val_loss: 0.1849 - val_accuracy: 0.9554\n",
      "Epoch 15/30\n",
      "827/827 [==============================] - 82s 99ms/step - loss: 0.0480 - accuracy: 0.9842 - val_loss: 0.1121 - val_accuracy: 0.9658\n",
      "Epoch 16/30\n",
      "827/827 [==============================] - 80s 97ms/step - loss: 0.0522 - accuracy: 0.9827 - val_loss: 0.1322 - val_accuracy: 0.9658\n",
      "Epoch 17/30\n",
      "827/827 [==============================] - 80s 97ms/step - loss: 0.0471 - accuracy: 0.9836 - val_loss: 0.1513 - val_accuracy: 0.9627\n",
      "Epoch 18/30\n",
      "827/827 [==============================] - 81s 97ms/step - loss: 0.0514 - accuracy: 0.9826 - val_loss: 0.3185 - val_accuracy: 0.9285\n",
      "Epoch 19/30\n",
      "827/827 [==============================] - 81s 97ms/step - loss: 0.0427 - accuracy: 0.9858 - val_loss: 0.2286 - val_accuracy: 0.9482\n",
      "Epoch 20/30\n",
      "827/827 [==============================] - 81s 98ms/step - loss: 0.0387 - accuracy: 0.9866 - val_loss: 0.2326 - val_accuracy: 0.9575\n",
      "Epoch 21/30\n",
      "827/827 [==============================] - 81s 98ms/step - loss: 0.0445 - accuracy: 0.9854 - val_loss: 0.2316 - val_accuracy: 0.9617\n",
      "Epoch 22/30\n",
      "827/827 [==============================] - 80s 97ms/step - loss: 0.0397 - accuracy: 0.9866 - val_loss: 0.2306 - val_accuracy: 0.9565\n",
      "Epoch 23/30\n",
      "827/827 [==============================] - 82s 99ms/step - loss: 0.0401 - accuracy: 0.9872 - val_loss: 0.2619 - val_accuracy: 0.9503\n",
      "Epoch 24/30\n",
      "827/827 [==============================] - 82s 99ms/step - loss: 0.0408 - accuracy: 0.9865 - val_loss: 0.1761 - val_accuracy: 0.9658\n",
      "Epoch 25/30\n",
      "827/827 [==============================] - 82s 99ms/step - loss: 0.0329 - accuracy: 0.9886 - val_loss: 0.1753 - val_accuracy: 0.9699\n",
      "Epoch 26/30\n",
      "827/827 [==============================] - 82s 99ms/step - loss: 0.0393 - accuracy: 0.9873 - val_loss: 0.2804 - val_accuracy: 0.9503\n",
      "Epoch 27/30\n",
      "827/827 [==============================] - 82s 99ms/step - loss: 0.0351 - accuracy: 0.9885 - val_loss: 0.2084 - val_accuracy: 0.9617\n",
      "Epoch 28/30\n",
      "827/827 [==============================] - 82s 99ms/step - loss: 0.0312 - accuracy: 0.9896 - val_loss: 0.2799 - val_accuracy: 0.9554\n",
      "Epoch 29/30\n",
      "827/827 [==============================] - 81s 98ms/step - loss: 0.0336 - accuracy: 0.9889 - val_loss: 0.2908 - val_accuracy: 0.9503\n",
      "Epoch 30/30\n",
      "827/827 [==============================] - 82s 99ms/step - loss: 0.0334 - accuracy: 0.9898 - val_loss: 0.2564 - val_accuracy: 0.9617\n"
     ]
    },
    {
     "data": {
      "text/plain": [
       "<keras.src.callbacks.History at 0x26339b77390>"
      ]
     },
     "execution_count": 8,
     "metadata": {},
     "output_type": "execute_result"
    }
   ],
   "source": [
    "cnn.fit(x = training_set, validation_data = test_set, epochs = 30)#epochs=훈련횟수, 결과 값 안나오면 숫자 늘려가기\n"
   ]
  },
  {
   "cell_type": "code",
   "execution_count": 12,
   "metadata": {
    "scrolled": true
   },
   "outputs": [],
   "source": [
    "cnn.save('DrumNote_CNN_Model.keras')"
   ]
  },
  {
   "cell_type": "code",
   "execution_count": 10,
   "metadata": {
    "colab": {
     "base_uri": "https://localhost:8080/"
    },
    "id": "mdXOZvUW6Lbs",
    "outputId": "5bba448b-9107-4611-cd05-2798ed810a6b",
    "scrolled": false
   },
   "outputs": [
    {
     "name": "stdout",
     "output_type": "stream",
     "text": [
      "1/1 [==============================] - 0s 28ms/step\n",
      "Image: D:/note_deep_learning/test\\2.jpg, Predicted Class: 2\n",
      "1/1 [==============================] - 0s 25ms/step\n",
      "Image: D:/note_deep_learning/test\\2_1.jpg, Predicted Class: 2\n",
      "1/1 [==============================] - 0s 30ms/step\n",
      "Image: D:/note_deep_learning/test\\2_2.jpg, Predicted Class: 2\n",
      "1/1 [==============================] - 0s 31ms/step\n",
      "Image: D:/note_deep_learning/test\\2_3.jpg, Predicted Class: 2\n",
      "1/1 [==============================] - 0s 31ms/step\n",
      "Image: D:/note_deep_learning/test\\2_4.jpg, Predicted Class: 2\n",
      "1/1 [==============================] - 0s 33ms/step\n",
      "Image: D:/note_deep_learning/test\\3.jpg, Predicted Class: 3\n",
      "1/1 [==============================] - 0s 32ms/step\n",
      "Image: D:/note_deep_learning/test\\4.jpg, Predicted Class: 4\n",
      "1/1 [==============================] - 0s 35ms/step\n",
      "Image: D:/note_deep_learning/test\\4_1.jpg, Predicted Class: 4\n",
      "1/1 [==============================] - 0s 21ms/step\n",
      "Image: D:/note_deep_learning/test\\4_2.jpg, Predicted Class: 9\n",
      "1/1 [==============================] - 0s 25ms/step\n",
      "Image: D:/note_deep_learning/test\\4_31.jpg, Predicted Class: 4\n",
      "1/1 [==============================] - 0s 24ms/step\n",
      "Image: D:/note_deep_learning/test\\4_44.jpg, Predicted Class: 4\n",
      "1/1 [==============================] - 0s 23ms/step\n",
      "Image: D:/note_deep_learning/test\\5.jpg, Predicted Class: 5\n",
      "1/1 [==============================] - 0s 26ms/step\n",
      "Image: D:/note_deep_learning/test\\5_1.jpg, Predicted Class: 5\n",
      "1/1 [==============================] - 0s 20ms/step\n",
      "Image: D:/note_deep_learning/test\\6.jpg, Predicted Class: 6\n",
      "1/1 [==============================] - 0s 19ms/step\n",
      "Image: D:/note_deep_learning/test\\7.jpg, Predicted Class: 7\n",
      "1/1 [==============================] - 0s 24ms/step\n",
      "Image: D:/note_deep_learning/test\\8.jpg, Predicted Class: 8\n",
      "1/1 [==============================] - 0s 27ms/step\n",
      "Image: D:/note_deep_learning/test\\8_18.jpg, Predicted Class: 8\n",
      "1/1 [==============================] - 0s 25ms/step\n",
      "Image: D:/note_deep_learning/test\\8_2.jpg, Predicted Class: 9\n",
      "1/1 [==============================] - 0s 22ms/step\n",
      "Image: D:/note_deep_learning/test\\8_3.jpg, Predicted Class: 8\n",
      "1/1 [==============================] - 0s 27ms/step\n",
      "Image: D:/note_deep_learning/test\\8_34.jpg, Predicted Class: 8\n",
      "1/1 [==============================] - 0s 27ms/step\n",
      "Image: D:/note_deep_learning/test\\8_38.jpg, Predicted Class: 8\n",
      "1/1 [==============================] - 0s 28ms/step\n",
      "Image: D:/note_deep_learning/test\\8_4.jpg, Predicted Class: 8\n",
      "1/1 [==============================] - 0s 25ms/step\n",
      "Image: D:/note_deep_learning/test\\9_18.jpg, Predicted Class: 9\n",
      "1/1 [==============================] - 0s 20ms/step\n",
      "Image: D:/note_deep_learning/test\\9_34.jpg, Predicted Class: 9\n",
      "1/1 [==============================] - 0s 23ms/step\n",
      "Image: D:/note_deep_learning/test\\9_88.jpg, Predicted Class: 9\n"
     ]
    }
   ],
   "source": [
    "from tensorflow.keras.preprocessing import image\n",
    "\n",
    "# 이미지 파일이 있는 디렉토리 경로\n",
    "image_directory = 'D:/note_deep_learning/test/'\n",
    "\n",
    "# 이미지 파일 목록 가져오기\n",
    "image_files = glob.glob(image_directory + '*.jpg')  # 필요한 이미지 확장자에 따라 수정\n",
    "\n",
    "# 클래스 인덱스와 클래스 이름 매핑\n",
    "class_indices = training_set.class_indices\n",
    "class_names = {v: k for k, v in class_indices.items()}\n",
    "\n",
    "# 각 이미지에 대한 예측 수행\n",
    "for image_file in image_files:\n",
    "    # 이미지 로드 및 전처리\n",
    "    test_image = image.load_img(image_file, target_size=(64, 64))\n",
    "    test_image = image.img_to_array(test_image)\n",
    "    test_image = np.expand_dims(test_image, axis=0)\n",
    "\n",
    "    # 예측 수행\n",
    "    result = cnn.predict(test_image)\n",
    "\n",
    "    # 예측 결과 확인\n",
    "    predicted_class_index = np.argmax(result)\n",
    "    predicted_class_name = class_names[predicted_class_index]\n",
    "\n",
    "    print(f\"Image: {image_file}, Predicted Class: {predicted_class_name}\")"
   ]
  },
  {
   "cell_type": "code",
   "execution_count": null,
   "metadata": {},
   "outputs": [],
   "source": []
  }
 ],
 "metadata": {
  "colab": {
   "provenance": []
  },
  "kernelspec": {
   "display_name": "Python 3 (ipykernel)",
   "language": "python",
   "name": "python3"
  },
  "language_info": {
   "codemirror_mode": {
    "name": "ipython",
    "version": 3
   },
   "file_extension": ".py",
   "mimetype": "text/x-python",
   "name": "python",
   "nbconvert_exporter": "python",
   "pygments_lexer": "ipython3",
   "version": "3.11.3"
  }
 },
 "nbformat": 4,
 "nbformat_minor": 1
}
